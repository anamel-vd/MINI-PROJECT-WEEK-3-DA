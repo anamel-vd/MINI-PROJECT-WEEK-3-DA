{
 "cells": [
  {
   "cell_type": "markdown",
   "id": "edc460fa",
   "metadata": {},
   "source": [
    "**DATA ANALYTICS BOOT CAMP\n",
    "IRONHACK, BERLIN\n",
    "MINI PROJECT WEEK 3**\n",
    "\n",
    "**#Team: Ana Melissa Valladares, Ettore Roberto Capone and Miriam Godinez\n",
    "\n",
    "*This README contains our project journey, where we harnessed the power of Kaggle datasets, employed Python for meticulous cleaning, and orchestrated MySQL's capabilities to construct an efficient database. From crafting an Entity-Relationship Diagram to formulating intricate MySQL queries, our exploration extended to Tableau for compelling visualizations. \n",
    "\n",
    "- 1 In the initial phase, we meticulously cleaned the energy dataset, addressing missing values and inconsistencies using Python.\n",
    "\n",
    "- 2 Following the data cleansing, we designed a comprehensive Entity-Relationship Diagram (ERD) to model relationships between information on energy, renewables, and CO2 emissions per region on Earth.\n",
    "\n",
    "- 3 Leveraging MySQL, we translated the ERD into a structured database, creating tables with suitable primary and foreign keys to maintain data integrity.\n",
    "\n",
    "- 4 Our SQL queries probed the database, extracting key insights into regional energy consumption, renewable energy trends, and corresponding CO2 emissions.\n",
    "\n",
    "- 5 The culmination involved visualizing these findings through Tableau, providing a comprehensive and accessible overview of energy consumption and generation landscape.\n",
    "\n",
    "\n",
    "#Chosen dataset in Kaggle: https://www.kaggle.com/code/abdallhaosman/eda-co2-emission-data-visualization\n",
    "\n",
    "\n",
    "\n",
    "\n",
    "\n",
    "\n",
    "\n"
   ]
  }
 ],
 "metadata": {
  "kernelspec": {
   "display_name": "Python 3 (ipykernel)",
   "language": "python",
   "name": "python3"
  },
  "language_info": {
   "codemirror_mode": {
    "name": "ipython",
    "version": 3
   },
   "file_extension": ".py",
   "mimetype": "text/x-python",
   "name": "python",
   "nbconvert_exporter": "python",
   "pygments_lexer": "ipython3",
   "version": "3.11.5"
  }
 },
 "nbformat": 4,
 "nbformat_minor": 5
}
